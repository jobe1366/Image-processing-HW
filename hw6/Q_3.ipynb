{
 "cells": [
  {
   "cell_type": "code",
   "execution_count": 7,
   "metadata": {},
   "outputs": [
    {
     "data": {
      "text/plain": [
       "-1"
      ]
     },
     "execution_count": 7,
     "metadata": {},
     "output_type": "execute_result"
    }
   ],
   "source": [
    "import numpy as np\n",
    "import cv2\n",
    "\n",
    "class Point(object):\n",
    "    def __init__(self,x,y):\n",
    "        self.x = x\n",
    "        self.y = y\n",
    "\n",
    "    def getX(self):\n",
    "        \n",
    "        return self.x\n",
    "    def getY(self):\n",
    "        return self.y\n",
    "\n",
    "def getGrayDiff(img,currentPoint,tmpPoint):\n",
    "    return abs(int(img[currentPoint.x,currentPoint.y]) - int(img[tmpPoint.x,tmpPoint.y]))\n",
    "\n",
    "def selectConnects(p):\n",
    "    if p != 0:\n",
    "        connects = [Point(-1, -1),Point(0, -1),Point(1, -1),Point(1, 0),Point(1, 1),Point(0, 1),Point(-1, 1), Point(-1, 0)]\n",
    "    else:\n",
    "        connects = [ Point(0, -1), Point(1, 0),Point(0, 1), Point(-1, 0)]\n",
    "    return connects\n",
    "\n",
    "def regionGrow(img,seeds,thresh,p = 1):\n",
    "    height, weight = img.shape\n",
    "    seedMark = np.zeros(img.shape)\n",
    "    seedList = []\n",
    "    for seed in seeds:\n",
    "        seedList.append(seed)\n",
    "        label = 1\n",
    "        connects = selectConnects(p)\n",
    "        \n",
    "        while(len(seedList)>0):\n",
    "            currentPoint = seedList.pop(0)\n",
    "            seedMark[currentPoint.x,currentPoint.y] = label\n",
    "            \n",
    "            for i in range(8):\n",
    "                tmpX = currentPoint.x + connects[i].x\n",
    "                tmpY = currentPoint.y + connects[i].y\n",
    "        \n",
    "                if tmpX < 0 or tmpY < 0 or tmpX >= height or tmpY >= weight:\n",
    "                    continue\n",
    "                grayDiff = getGrayDiff(img,currentPoint,Point(tmpX,tmpY))\n",
    "                if grayDiff < thresh and seedMark[tmpX,tmpY] == 0:\n",
    "                    seedMark[tmpX,tmpY] = label\n",
    "                    seedList.append(Point(tmpX,tmpY))\n",
    "    return seedMark\n",
    "\n",
    "\n",
    "img = cv2.imread('balls.jpg',0)\n",
    "\n",
    "seeds = [Point( 86,276),Point(230,119),Point(165, 164),Point(183,276),Point(60,150),Point(151,76),\\\n",
    "         Point(98,66),Point(299,67),Point(82,284),Point(283,274),Point(168,252)]\n",
    "\n",
    "binaryImg = regionGrow(img,seeds,10)\n",
    "cv2.imshow(' ',binaryImg)\n",
    "cv2.waitKey(0)\n",
    "\n"
   ]
  },
  {
   "cell_type": "code",
   "execution_count": 2,
   "metadata": {},
   "outputs": [
    {
     "name": "stdout",
     "output_type": "stream",
     "text": [
      "Seed: 169, 168 255\n"
     ]
    },
    {
     "data": {
      "image/png": "[encoded data removed]",
      "text/plain": [
       "<Figure size 432x288 with 1 Axes>"
      ]
     },
     "metadata": {
      "needs_background": "light"
     },
     "output_type": "display_data"
    }
   ],
   "source": [
    "import cv2\n",
    "import numpy as np\n",
    "import matplotlib.pyplot as plt\n",
    "\n",
    "def get8n(x, y, shape):\n",
    "    out = []\n",
    "    maxx = shape[1]-1\n",
    "    maxy = shape[0]-1\n",
    "    #top left\n",
    "    outx = min(max(x-1,0),maxx)\n",
    "    outy = min(max(y-1,0),maxy)\n",
    "    out.append((outx,outy))\n",
    "    #top center\n",
    "    outx = x\n",
    "    outy = min(max(y-1,0),maxy)\n",
    "    out.append((outx,outy))\n",
    "    #top right\n",
    "    outx = min(max(x+1,0),maxx)\n",
    "    outy = min(max(y-1,0),maxy)\n",
    "    out.append((outx,outy))\n",
    "    #left\n",
    "    outx = min(max(x-1,0),maxx)\n",
    "    outy = y\n",
    "    out.append((outx,outy))\n",
    "    #right\n",
    "    outx = min(max(x+1,0),maxx)\n",
    "    outy = y\n",
    "    out.append((outx,outy))\n",
    "    #bottom left\n",
    "    outx = min(max(x-1,0),maxx)\n",
    "    outy = min(max(y+1,0),maxy)\n",
    "    out.append((outx,outy))\n",
    "    #bottom center\n",
    "    outx = x\n",
    "    outy = min(max(y+1,0),maxy)\n",
    "    out.append((outx,outy))\n",
    "    #bottom right\n",
    "    outx = min(max(x+1,0),maxx)\n",
    "    outy = min(max(y+1,0),maxy)\n",
    "    out.append((outx,outy))\n",
    "\n",
    "    return out\n",
    "\n",
    "def region_growing(img, seed):\n",
    "    list = []\n",
    "    outimg = np.zeros_like(img)\n",
    "    list.append((seed[0], seed[1]))\n",
    "    processed = []\n",
    "    while(len(list) > 0):\n",
    "        pix = list[0]\n",
    "        outimg[pix[0], pix[1]] = 255\n",
    "        for coord in get8n(pix[0], pix[1], img.shape):\n",
    "            if img[coord[0], coord[1]] != 0:\n",
    "                outimg[coord[0], coord[1]] = 255\n",
    "                if not coord in processed:\n",
    "                    list.append(coord)\n",
    "                processed.append(coord)\n",
    "        list.pop(0)\n",
    "        cv2.imshow(\"progress\",outimg)\n",
    "        cv2.waitKey(1)\n",
    "    return outimg\n",
    "\n",
    "def on_mouse(event, x, y, flags, params):\n",
    "    if event == cv2.EVENT_LBUTTONDOWN:\n",
    "        print ('Seed: ' + str(x) + ', ' + str(y), img[y,x])\n",
    "        clicks.append((y,x))\n",
    "\n",
    "clicks = []\n",
    "image = cv2.imread('balls.jpg', 0)\n",
    "ret, img = cv2.threshold(image, 128, 255, cv2.THRESH_BINARY)\n",
    "cv2.namedWindow('Input')\n",
    "cv2.setMouseCallback('Input', on_mouse, 0 ,)\n",
    "cv2.imshow('Input', img)\n",
    "cv2.waitKey()\n",
    "seed = clicks[-1]\n",
    "\n",
    "\n",
    "out = region_growing(img, seed)\n",
    "plt.imshow( out , cmap='gray')\n",
    "plt.show()\n",
    "\n",
    "        "
   ]
  },
  {
   "cell_type": "code",
   "execution_count": null,
   "metadata": {},
   "outputs": [],
   "source": []
  }
 ],
 "metadata": {
  "kernelspec": {
   "display_name": "Python 3",
   "language": "python",
   "name": "python3"
  },
  "language_info": {
   "codemirror_mode": {
    "name": "ipython",
    "version": 3
   },
   "file_extension": ".py",
   "mimetype": "text/x-python",
   "name": "python",
   "nbconvert_exporter": "python",
   "pygments_lexer": "ipython3",
   "version": "3.7.4"
  }
 },
 "nbformat": 4,
 "nbformat_minor": 2
}
