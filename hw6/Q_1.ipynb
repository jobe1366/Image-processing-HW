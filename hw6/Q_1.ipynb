{
 "cells": [
  {
   "cell_type": "code",
   "execution_count": 46,
   "metadata": {},
   "outputs": [
    {
     "name": "stdout",
     "output_type": "stream",
     "text": [
      "(15, 15)\n"
     ]
    },
    {
     "data": {
      "image/png": "[encoded data removed]",
      "text/plain": [
       "<Figure size 432x288 with 1 Axes>"
      ]
     },
     "metadata": {
      "needs_background": "light"
     },
     "output_type": "display_data"
    }
   ],
   "source": [
    "import cv2 \n",
    "import cv2 as cv\n",
    "import matplotlib.pyplot as plt \n",
    "\n",
    "img  =np.array([[0,0,0,0,0,0,0,0,0,0,0,0,0,0,0],[0,0,0,1,0,0,0,1,0,0,0,1,0,0,0],[0,0,0,1,0,0,0,1,0,0,0,1,0,0,0],\\\n",
    "                [0,1,1,1,1,1,1,1,1,1,1,1,1,1,0],[0,0,0,1,0,0,0,1,0,0,0,1,0,0,0],[0,0,0,1,0,0,0,1,0,0,0,1,0,0,0],\\\n",
    "                [0,0,0,1,0,0,0,1,0,0,0,1,0,0,0],[0,1,1,1,1,1,1,1,1,1,1,1,1,1,0],[0,0,0,1,0,0,0,1,0,0,0,1,0,0,0],\\\n",
    "                [0,0,0,1,0,0,0,1,0,0,0,1,0,0,0],[0,0,0,1,0,0,0,1,0,0,0,1,0,0,0],[0,1,1,1,1,1,1,1,1,1,1,1,1,1,0],\\\n",
    "                [0,0,0,1,0,0,0,1,0,0,0,1,0,0,0],[0,0,0,1,0,0,0,1,0,0,0,1,0,0,0],[0,0,0,0,0,0,0,0,0,0,0,0,0,0,0]])\n",
    "img= img.astype('uint8')\n",
    "print(img.shape)\n",
    "\n",
    "kernel1=np.ones((3,3)).astype('uint8')\n",
    "kernel2=np.array([[0,1,0],[0,0,1],[0,1,0]]).astype('uint8')\n",
    "\n",
    "closing = cv.morphologyEx(img, cv.MORPH_CLOSE, kernel1)\n",
    "opening = cv.morphologyEx(closing, cv.MORPH_OPEN, kernel2)\n",
    "plt.imshow(opening , cmap='gray'  )\n",
    "plt.show()"
   ]
  },
  {
   "cell_type": "code",
   "execution_count": null,
   "metadata": {},
   "outputs": [],
   "source": []
  }
 ],
 "metadata": {
  "kernelspec": {
   "display_name": "Python 3",
   "language": "python",
   "name": "python3"
  },
  "language_info": {
   "codemirror_mode": {
    "name": "ipython",
    "version": 3
   },
   "file_extension": ".py",
   "mimetype": "text/x-python",
   "name": "python",
   "nbconvert_exporter": "python",
   "pygments_lexer": "ipython3",
   "version": "3.7.4"
  }
 },
 "nbformat": 4,
 "nbformat_minor": 2
}
