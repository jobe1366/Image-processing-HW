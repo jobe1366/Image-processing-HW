{
 "cells": [
  {
   "cell_type": "code",
   "execution_count": 3,
   "metadata": {},
   "outputs": [
    {
     "data": {
      "image/png": "[encoded data removed]",
      "text/plain": [
       "<Figure size 432x288 with 2 Axes>"
      ]
     },
     "metadata": {
      "needs_background": "light"
     },
     "output_type": "display_data"
    }
   ],
   "source": [
    "import numpy as np\n",
    "import cv2 \n",
    "from scipy.fftpack import fft2, ifft2\n",
    "import matplotlib.pyplot as plt\n",
    "%matplotlib inline\n",
    "\n",
    "path1 ='C:/Users/jobe/Desktop/HW 4/cam_1.bmp'\n",
    "path2 ='C:/Users/jobe/Desktop/HW 4/sensor.bmp'\n",
    "\n",
    "img_cam_1 = cv2.imread(path1 , 0)\n",
    "img_sensor = cv2.imread(path2 , 0)\n",
    "\n",
    "#cv2.imshow(' img_cam_1' , img_cam_1 )\n",
    "#cv2.imshow('img_sensor' , img_sensor )\n",
    "#cv2.waitKey(0)\n",
    "\n",
    "plt.subplot(211),   plt.hist(img_cam_1.ravel(),256,[0,256])\n",
    "plt.subplot(212),   plt.hist(img_sensor .ravel(),256,[0,256])\n",
    "plt.show()"
   ]
  },
  {
   "cell_type": "code",
   "execution_count": 2,
   "metadata": {},
   "outputs": [],
   "source": [
    "#def NormalizeData(data):\n",
    "    #return abs(data - np.min(data) / (np.max(data) - np.min(data)))\n",
    "\n",
    "#sensor_norm=NormalizeData(img_sensor)\n",
    "#plt.hist(sensor_norm.ravel())\n",
    "#plt.show()"
   ]
  },
  {
   "cell_type": "code",
   "execution_count": 4,
   "metadata": {},
   "outputs": [
    {
     "data": {
      "text/plain": [
       "True"
      ]
     },
     "execution_count": 4,
     "metadata": {},
     "output_type": "execute_result"
    }
   ],
   "source": [
    "path1 ='C:/Users/jobe/Desktop/HW 4/cam_1.bmp'\n",
    "path2 ='C:/Users/jobe/Desktop/HW 4/sensor.bmp'\n",
    "\n",
    "g = cv2.imread(path1 , 0)\n",
    "h = cv2.imread(path2 , 0)\n",
    "\n",
    "G =  (np.fft.fft2(g))\n",
    "H =  (np.fft.fft2(h))\n",
    "    \n",
    "H_norm = H/abs(H.max())\n",
    "G_norm = G/abs(G.max())\n",
    "F_hat = G_norm/H_norm \n",
    "  \n",
    "F_hat  = (F_hat)*(abs(G.max()))\n",
    "\n",
    "f_hat = np.fft.ifft2( F_hat )\n",
    "\n",
    "f_hat= abs(f_hat)    \n",
    "\n",
    "cv2.imwrite('without_noise_4.1.bmp',f_hat)"
   ]
  },
  {
   "cell_type": "code",
   "execution_count": 9,
   "metadata": {},
   "outputs": [
    {
     "data": {
      "text/plain": [
       "True"
      ]
     },
     "execution_count": 9,
     "metadata": {},
     "output_type": "execute_result"
    }
   ],
   "source": [
    "path1 ='C:/Users/jobe/Desktop/HW 4/cam_2.bmp'\n",
    "path2 ='C:/Users/jobe/Desktop/HW 4/sensor.bmp'\n",
    "\n",
    "g = cv2.imread(path1 , 0)\n",
    "h = cv2.imread(path2 , 0)\n",
    "\n",
    "G =  (np.fft.fft2(g))\n",
    "H =  (np.fft.fft2(h))\n",
    "    \n",
    "H_norm = H/abs(H.max())\n",
    "G_norm = G/abs(G.max())\n",
    "F_hat = G_norm/H_norm \n",
    "  \n",
    "F_hat  = (F_hat)*(abs(G.max()))\n",
    "\n",
    "f_hat = np.fft.ifft2( F_hat )\n",
    "\n",
    "f_hat= abs(f_hat)        \n",
    "\n",
    "cv2.imwrite('with_nose_4.2.bmp',f_hat)"
   ]
  },
  {
   "cell_type": "code",
   "execution_count": 19,
   "metadata": {},
   "outputs": [
    {
     "name": "stdout",
     "output_type": "stream",
     "text": [
      "mean for patch of image = 118.6572\n",
      "std for patch of image = 8.768015063855673\n"
     ]
    },
    {
     "data": {
      "image/png": "[encoded data removed]",
      "text/plain": [
       "<Figure size 432x288 with 1 Axes>"
      ]
     },
     "metadata": {
      "needs_background": "light"
     },
     "output_type": "display_data"
    }
   ],
   "source": [
    "import numpy as np\n",
    "import cv2 \n",
    "import matplotlib.pyplot as plt\n",
    "\n",
    "path ='C:/Users/jobe/Desktop/HW 4/cam_2.bmp'\n",
    "\n",
    "img_noisy=cv2.imread(path , 0)\n",
    "\n",
    "#select a patch of cam_2 noisy image for detect type of nosie\n",
    "\n",
    "h = img_noisy.shape[0]\n",
    "w = img_noisy.shape[1]\n",
    "\n",
    "patch=img_noisy[200:250 , 200:250]\n",
    "\n",
    "mean= np.mean(patch)\n",
    "print('mean for patch of image = {}' .format(mean))\n",
    "std= np.std(patch)\n",
    "print('std for patch of image = {}' .format(std))\n",
    "\n",
    "plt.hist(patch.ravel(),256,[0,256])\n",
    "plt.show()\n",
    "\n",
    "#we can see that each patch of cam_2 image have a normal noise so we should calculate prameter of normal distrubition\n"
   ]
  },
  {
   "cell_type": "code",
   "execution_count": 18,
   "metadata": {},
   "outputs": [
    {
     "name": "stdout",
     "output_type": "stream",
     "text": [
      "mean of whole image = 118.22425842285156\n",
      "std of whole image =52.403297092573055 \n"
     ]
    },
    {
     "data": {
      "image/png": "[encoded data removed]",
      "text/plain": [
       "<Figure size 432x288 with 1 Axes>"
      ]
     },
     "metadata": {
      "needs_background": "light"
     },
     "output_type": "display_data"
    }
   ],
   "source": [
    "import numpy as np\n",
    "import cv2 \n",
    "import matplotlib.pyplot as plt\n",
    "\n",
    "path ='C:/Users/jobe/Desktop/HW 4/cam_2.bmp'\n",
    "\n",
    "img_noisy=cv2.imread(path , 0)\n",
    "\n",
    "mean= np.mean(img_noisy)\n",
    "print('mean of whole image = {}' .format(mean))\n",
    "std= np.std(img_noisy)\n",
    "print('std of whole image ={} ' .format(std))\n",
    "\n",
    "plt.hist(img_noisy.ravel(),256,[0,256])\n",
    "plt.show()"
   ]
  },
  {
   "cell_type": "code",
   "execution_count": null,
   "metadata": {},
   "outputs": [],
   "source": []
  }
 ],
 "metadata": {
  "kernelspec": {
   "display_name": "Python 3",
   "language": "python",
   "name": "python3"
  },
  "language_info": {
   "codemirror_mode": {
    "name": "ipython",
    "version": 3
   },
   "file_extension": ".py",
   "mimetype": "text/x-python",
   "name": "python",
   "nbconvert_exporter": "python",
   "pygments_lexer": "ipython3",
   "version": "3.7.4"
  }
 },
 "nbformat": 4,
 "nbformat_minor": 2
}
