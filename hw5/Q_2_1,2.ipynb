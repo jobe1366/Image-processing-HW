{
 "cells": [
  {
   "cell_type": "code",
   "execution_count": null,
   "metadata": {},
   "outputs": [
    {
     "name": "stderr",
     "output_type": "stream",
     "text": [
      "C:\\Users\\jobe\\Anaconda3\\lib\\site-packages\\ipykernel_launcher.py:18: RuntimeWarning: invalid value encountered in sqrt\n"
     ]
    }
   ],
   "source": [
    "import cv2\n",
    "import numpy as np\n",
    "import math\n",
    "\n",
    "\n",
    "cam_id = 0\n",
    "cap = cv2.VideoCapture(cam_id)\n",
    "while True:\n",
    "    ret, image = cap.read()\n",
    "    deblurred_image = cv2.GaussianBlur(image, (5, 5), 1.0, 1.5)\n",
    "    deblurred_image_grayscale = cv2.cvtColor( deblurred_image ,  cv2.COLOR_BGR2GRAY)\n",
    "     \n",
    "    sobel_x = cv2.Sobel(deblurred_image_grayscale, cv2.CV_16S, 1, 0, ksize=3, scale=1, delta=45, borderType=cv2.BORDER_DEFAULT)\n",
    "    sobel_y = cv2.Sobel(deblurred_image_grayscale, cv2.CV_16S, 0, 1, ksize=3, scale=1, delta=45, borderType=cv2.BORDER_DEFAULT)\n",
    "    \n",
    "    mag = np.sqrt((sobel_x ** 2) + (sobel_y ** 2))\n",
    "    ret,thresholding = cv2.threshold(mag , 80, 255, cv2.THRESH_BINARY)\n",
    "    \n",
    "    cv2.imshow('My camera', image)\n",
    "    cv2.imshow('resulting_thresholding', thresholding)\n",
    "    if cv2.waitKey(1) & 0xFF == ord('e'):\n",
    "        break\n",
    "        \n",
    "cap.release()\n",
    "cv2.destroyAllWindows()"
   ]
  },
  {
   "cell_type": "code",
   "execution_count": null,
   "metadata": {},
   "outputs": [],
   "source": [
    "import cv2\n",
    "import numpy as np\n",
    "\n",
    "cam_id = 0\n",
    "cap = cv2.VideoCapture(cam_id)\n",
    "while True:\n",
    "    ret, image = cap.read()\n",
    "    image_grayscale = cv2.cvtColor(image, cv2.COLOR_BGR2GRAY)\n",
    "    deblurred_image = cv2.GaussianBlur(image_grayscale,(5,5), 1.0, 1.5 )\n",
    "    edge_image_canny = cv2.Canny ( deblurred_image, 30,  120 )\n",
    "    \n",
    "    cv2.imshow('My Camera', image)\n",
    "    cv2.imshow('edge_image_canny_resulting', edge_image_canny)\n",
    "    \n",
    "    if cv2.waitKey(1) & 0xFF == ord('e'):\n",
    "        break       \n",
    "cap.release()\n",
    "cv2.destroyAllWindows()"
   ]
  }
 ],
 "metadata": {
  "kernelspec": {
   "display_name": "Python 3",
   "language": "python",
   "name": "python3"
  },
  "language_info": {
   "codemirror_mode": {
    "name": "ipython",
    "version": 3
   },
   "file_extension": ".py",
   "mimetype": "text/x-python",
   "name": "python",
   "nbconvert_exporter": "python",
   "pygments_lexer": "ipython3",
   "version": "3.7.4"
  }
 },
 "nbformat": 4,
 "nbformat_minor": 2
}
